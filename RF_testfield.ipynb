{
 "cells": [
  {
   "cell_type": "code",
   "execution_count": null,
   "id": "f5662dc9-7408-43c3-9d9a-45ff06f7e14b",
   "metadata": {},
   "outputs": [],
   "source": [
    "import qiskit\n",
    "import bqskit\n",
    "\n",
    "# Get the version of Qiskit\n",
    "qiskit_version = qiskit.__qiskit_version__\n",
    "\n",
    "qiskit_version\n",
    "\n",
    "print(bqskit.__version__, qiskit.__version__)"
   ]
  },
  {
   "cell_type": "markdown",
   "id": "6ed5307e-9e46-4f91-8437-975daed1073b",
   "metadata": {},
   "source": [
    "下面一个模块是创建coupling graph。原始的代码在route forcing文件夹里面。目前（24-09-25）是能跑的，有问题的话重新导入代码。\n",
    "\n",
    "\n",
    "p.s. 2024-11-24\n",
    "下面仅仅是使用了一个图。不是完整的machine model，因为后者还要设置支持的gates。"
   ]
  },
  {
   "cell_type": "code",
   "execution_count": null,
   "id": "fd30c8f8-b51e-4ca2-904f-cb55288337e6",
   "metadata": {},
   "outputs": [],
   "source": [
    "# Re-import necessary libraries after code reset\n",
    "import networkx as nx\n",
    "import pandas as pd\n",
    "import numpy\n",
    "from typing import Sequence\n",
    "\n",
    "# 创建一个只包含单元内连接的程序\n",
    "def create_coupling_graph_in_unit_only():\n",
    "    G = nx.Graph()\n",
    "\n",
    "    # 添加256个点\n",
    "    for unit in range(4):\n",
    "        for row in range(8):\n",
    "            for col in range(8):\n",
    "                node = f'{unit}{row}{col}'\n",
    "                G.add_node(node)\n",
    "\n",
    "    # 单元内连接 (in_unit)\n",
    "    for unit in range(4):\n",
    "        for row in range(8):\n",
    "            for col in range(8):\n",
    "                node = f'{unit}{row}{col}'\n",
    "\n",
    "                # 邻近点连接 (in-unit)\n",
    "                if col < 7:  # 向右连接\n",
    "                    right_node = f'{unit}{row}{col + 1}'\n",
    "                    G.add_edge(node, right_node, weight=1, connection_type='in_unit')\n",
    "\n",
    "                if row < 7:  # 向下连接\n",
    "                    down_node = f'{unit}{row + 1}{col}'\n",
    "                    G.add_edge(node, down_node, weight=1, connection_type='in_unit')\n",
    "\n",
    "    return G\n",
    "\n",
    "# 使用 Floyd-Warshall 算法计算点到点的最短距离矩阵\n",
    "def calculate_distance_matrix_floyd_warshall(graph):\n",
    "    # 使用 networkx 的 floyd_warshall 函数\n",
    "    length = dict(nx.floyd_warshall(graph, weight='weight'))\n",
    "    \n",
    "    # 转换为矩阵形式，便于输出或分析\n",
    "    nodes = sorted(graph.nodes())\n",
    "    num_nodes = len(nodes)\n",
    "    distance_matrix = []\n",
    "\n",
    "    for i in range(num_nodes):\n",
    "        row = []\n",
    "        for j in range(num_nodes):\n",
    "            row.append(length[nodes[i]][nodes[j]])\n",
    "        distance_matrix.append(row)\n",
    "    \n",
    "    return distance_matrix, nodes\n",
    "\n",
    "# 创建仅包含单元内连接的 coupling graph\n",
    "G_in_unit_only = create_coupling_graph_in_unit_only()\n",
    "\n",
    "# 手动添加单元间连接\n",
    "edges_to_add = [\n",
    "    ('007', '100', 5),\n",
    "    ('017', '110', 5),\n",
    "    ('027', '120', 5),\n",
    "    ('037', '130', 5),\n",
    "    ('047', '140', 5),\n",
    "    ('057', '150', 5),\n",
    "    ('067', '160', 5),\n",
    "    ('077', '170', 5),\n",
    "    ('070', '200', 5),\n",
    "    ('071', '201', 5),\n",
    "    ('072', '202', 5),\n",
    "    ('073', '203', 5),\n",
    "    ('074', '204', 5),\n",
    "    ('075', '205', 5),\n",
    "    ('076', '206', 5),\n",
    "    ('077', '207', 5),\n",
    "    ('170', '300', 5),\n",
    "    ('171', '301', 5),\n",
    "    ('172', '302', 5),\n",
    "    ('173', '303', 5),\n",
    "    ('174', '304', 5),\n",
    "    ('175', '305', 5),\n",
    "    ('176', '306', 5),\n",
    "    ('177', '307', 5),\n",
    "    ('207', '300', 5),\n",
    "    ('217', '310', 5),\n",
    "    ('227', '320', 5),\n",
    "    ('237', '330', 5),\n",
    "    ('247', '340', 5),\n",
    "    ('257', '350', 5),\n",
    "    ('267', '360', 5),\n",
    "    ('277', '370', 5),\n",
    "]\n",
    "\n",
    "# 添加单元间连接\n",
    "for edge in edges_to_add:\n",
    "    G_in_unit_only.add_edge(edge[0], edge[1], weight=edge[2], connection_type='inter_unit')\n",
    "\n",
    "# 使用 Floyd-Warshall 算法计算点到点的最短距离矩阵（包含单元间连接）\n",
    "distance_matrix_in_unit_only, nodes_in_unit_only = calculate_distance_matrix_floyd_warshall(G_in_unit_only)\n",
    "\n",
    "# 输出结果\n",
    "distance_matrix = pd.DataFrame(distance_matrix_in_unit_only, index=nodes_in_unit_only, columns=nodes_in_unit_only)\n",
    "\n"
   ]
  },
  {
   "cell_type": "code",
   "execution_count": null,
   "id": "df50550f-e4f9-4392-8bcb-dd82f1008609",
   "metadata": {},
   "outputs": [],
   "source": [
    "print(distance_matrix)\n",
    "print(G_in_unit_only.edges)"
   ]
  },
  {
   "cell_type": "markdown",
   "id": "b4081cc1-0d46-4ee8-8be6-3e87da89dc5e",
   "metadata": {},
   "source": [
    "ok,看起来没问题"
   ]
  },
  {
   "cell_type": "markdown",
   "id": "3e973198-d4d8-4824-b370-c344467d96b7",
   "metadata": {},
   "source": [
    "后面的coupling graph要求的是`[turple[int,int]]`的形式。好吧那么我们不能把任务留到后面去"
   ]
  },
  {
   "cell_type": "markdown",
   "id": "4f9f96a4-fb3b-4217-a42d-8be16fedf39e",
   "metadata": {},
   "source": [
    "亲啊，你设置了256个index，不能冲到377啊"
   ]
  },
  {
   "cell_type": "code",
   "execution_count": null,
   "id": "22955c9c-e103-473b-b06c-251a44982608",
   "metadata": {},
   "outputs": [],
   "source": [
    "def octal_to_decimal(octal_str):\n",
    "    # 通过公式 64*第一位 + 8*第二位 + 第三位 转换为十进制\n",
    "    return 64 * int(octal_str[0]) + 8 * int(octal_str[1]) + int(octal_str[2])\n",
    "    "
   ]
  },
  {
   "cell_type": "code",
   "execution_count": null,
   "id": "8033755a-3793-405d-a77e-ffe56b6cbebb",
   "metadata": {},
   "outputs": [],
   "source": [
    "test_cpg =nx.Graph()\n",
    "\n",
    "\n",
    "for edge in G_in_unit_only.edges:\n",
    "    # 将每个节点从八进制字符串转换为十进制\n",
    "    node1 = octal_to_decimal(edge[0])\n",
    "    node2 = octal_to_decimal(edge[1])\n",
    "    test_cpg.add_edge(node1, node2)\n",
    "\n",
    "print(list(test_cpg.edges))"
   ]
  },
  {
   "cell_type": "markdown",
   "id": "4edc1aea-c38d-4071-924c-becde0e9fe5f",
   "metadata": {},
   "source": [
    "然后下面开始是正式地使用bqskit进行一些运行。首先我们测试各个模块能不能运行，代码从教程里面抄。"
   ]
  },
  {
   "cell_type": "code",
   "execution_count": null,
   "id": "afe74566-9947-4600-9a24-1b1b3fca03b6",
   "metadata": {},
   "outputs": [],
   "source": [
    "from bqskit import Circuit\n",
    "circuit = Circuit.from_file('qasm/heisenberg16.qasm')"
   ]
  },
  {
   "cell_type": "code",
   "execution_count": null,
   "id": "424ce7a2-ce0f-4157-a245-cecc6523092c",
   "metadata": {},
   "outputs": [],
   "source": [
    "print(\"Circuit Statistics\")\n",
    "print(\"Gate Counts:\", circuit.gate_counts)\n",
    "print(\"Logical Connectivity:\", circuit.coupling_graph)"
   ]
  },
  {
   "cell_type": "markdown",
   "id": "6ec21289-5dd8-496b-804d-d8c27fb1ba43",
   "metadata": {},
   "source": [
    "我们发现circuit是内嵌在.qasm文件里面的。经过进一步调查，我们首先要手搓machine model。\n",
    "\n",
    "p.s. 2024-11-25\n",
    "\n",
    "其实是将网图加上支持的gates就可以了。"
   ]
  },
  {
   "cell_type": "code",
   "execution_count": null,
   "id": "b394370e-afa7-4648-83ac-4a6ca0135ec8",
   "metadata": {},
   "outputs": [],
   "source": [
    "from bqskit.compiler import MachineModel\n",
    "\n",
    "#定义qubits\n",
    "qubits_256 = list(range(256))\n"
   ]
  },
  {
   "cell_type": "code",
   "execution_count": null,
   "id": "472b4251-ac4b-4e67-bd59-9b8c907df290",
   "metadata": {},
   "outputs": [],
   "source": [
    "connections = (list(test_cpg.edges))\n",
    "\n",
    "print(connections)"
   ]
  },
  {
   "cell_type": "markdown",
   "id": "1c6a1458-f0c5-479c-974f-7f1fed8acf14",
   "metadata": {},
   "source": [
    "注意：\n",
    "\n",
    ">Barenco等人证明，*任意量子电路可以通过一组单量子比特门和CNOT门的组合来表达*。--sabre论文\n",
    "\n",
    "因此我可能需要移除一些支持的门。我希望这不会有太大的影响。"
   ]
  },
  {
   "cell_type": "code",
   "execution_count": null,
   "id": "8116e656-3b5a-433f-bb26-0fe02839cb9f",
   "metadata": {},
   "outputs": [],
   "source": [
    "# 定义支持的量子门\n",
    "supported_gates = {\n",
    "    \"single_qubit\": [\"h\", \"x\", \"y\", \"z\", \"s\", \"t\", \"rx\", \"ry\", \"rz\"],\n",
    "    \"two_qubit\": [\"cx\"]\n",
    "}"
   ]
  },
  {
   "cell_type": "code",
   "execution_count": null,
   "id": "5e9844a9-e1ab-4706-a886-d7c8f779f4b9",
   "metadata": {},
   "outputs": [],
   "source": [
    "# 创建 MachineModel 实例\n",
    "Test_Field_mcm = MachineModel(\n",
    "    num_qudits=256,\n",
    "    coupling_graph=list(test_cpg.edges),\n",
    "    gate_set = None,\n",
    "    radixes = [2] * 256\n",
    ")\n"
   ]
  },
  {
   "cell_type": "markdown",
   "id": "e618e19b-eb7b-4fab-b11a-d672d485d5b4",
   "metadata": {},
   "source": [
    "在经过了艰苦的奋斗之后，你终于成功地搓出了machine model。可喜可贺可喜可贺。就是时间实在拖得长了一些......"
   ]
  },
  {
   "cell_type": "code",
   "execution_count": null,
   "id": "fbd78891-3c34-4f77-b570-3e2c17f763d1",
   "metadata": {},
   "outputs": [],
   "source": [
    "print(\"Logical Connectivity:\", Test_Field_mcm.coupling_graph)"
   ]
  },
  {
   "cell_type": "markdown",
   "id": "c78ce20f-8068-45cd-92bc-5e215530b6a4",
   "metadata": {},
   "source": [
    "然后我写一个新的`_get_distance()`方法：这里使用已经加载的`distance_matrix`而无需每次进行计算。\n",
    "\n",
    "（原型在sabre.py里面。我还不知道应该怎么优雅地写自己的basepass，只好先罗列着）"
   ]
  },
  {
   "cell_type": "code",
   "execution_count": null,
   "id": "0fe465d7-024a-4d3d-8c7c-8ba93be99100",
   "metadata": {},
   "outputs": [],
   "source": [
    "def _get_distance(\n",
    "    self,\n",
    "    logical_qudits: Sequence[int],\n",
    "    pi: list[int],\n",
    "    D: pd.DataFrame,  \n",
    "    # 将 D 的类型更改为 pd.DataFrame。仅仅为了适配这里的代码，本质任然是一个二维矩阵。\n",
    ") -> float:\n",
    "    \"\"\"计算连接逻辑量子位所需交换次数的期望值。\"\"\"\n",
    "    min_term = np.inf\n",
    "    for q in logical_qudits:\n",
    "        term = 0.0\n",
    "        for p in logical_qudits:\n",
    "            if p == q:\n",
    "                continue\n",
    "            # 使用 DataFrame 的 .loc 方法获取距离\n",
    "            term += D.loc[pi[q], pi[p]]\n",
    "        min_term = min(term, min_term)\n",
    "    return min_term"
   ]
  },
  {
   "cell_type": "markdown",
   "id": "46d3c4dd-f4df-491b-980f-d6744985e5b1",
   "metadata": {},
   "source": [
    "然后尝试重新写一下`_score_swap`方法。"
   ]
  },
  {
   "cell_type": "markdown",
   "id": "adcf244b",
   "metadata": {},
   "source": [
    "在参照教程1之后，重新在这里进行一些电路的研究。继续使用内置的示例"
   ]
  },
  {
   "cell_type": "code",
   "execution_count": null,
   "id": "5f80a88c",
   "metadata": {},
   "outputs": [],
   "source": [
    "from bqskit import Circuit\n",
    "circuit=Circuit.from_file('qasm/heisenberg16.qasm')"
   ]
  },
  {
   "cell_type": "code",
   "execution_count": null,
   "id": "b8424dbb",
   "metadata": {},
   "outputs": [],
   "source": [
    "from bqskit import compile\n",
    "test_circuit = compile(circuit)#没错，还是heisenberg_16\n",
    "\n",
    "# Print new statistics\n",
    "print(\"Compiled Circuit Statistics\")\n",
    "print(\"Gate Counts:\", test_circuit.gate_counts)\n",
    "print(\"Logical Connectivity:\", test_circuit.coupling_graph)"
   ]
  },
  {
   "cell_type": "code",
   "execution_count": null,
   "id": "fe46992c",
   "metadata": {},
   "outputs": [],
   "source": [
    "def compile_TF_model(circuit):\n",
    "    return compile(test_circuit,Test_Field_mcm)"
   ]
  },
  {
   "cell_type": "code",
   "execution_count": null,
   "id": "fb7eaaf5",
   "metadata": {},
   "outputs": [],
   "source": [
    "new_circuit=compile_TF_model(test_circuit)\n",
    "print(\"自定义门集编译后的门计数：\", new_circuit.gate_counts)"
   ]
  },
  {
   "cell_type": "code",
   "execution_count": null,
   "id": "c13714d0-7003-4f64-b391-a6f4ff3f7b9d",
   "metadata": {},
   "outputs": [],
   "source": []
  },
  {
   "cell_type": "code",
   "execution_count": null,
   "id": "bc1242ab-b157-47a9-aa67-3136d7710ade",
   "metadata": {},
   "outputs": [],
   "source": []
  },
  {
   "cell_type": "code",
   "execution_count": null,
   "id": "acba39d2-058d-458a-8d33-cde705358106",
   "metadata": {},
   "outputs": [],
   "source": []
  },
  {
   "cell_type": "code",
   "execution_count": null,
   "id": "886c7ce0-d9da-45c6-8eeb-d396e9c04a8c",
   "metadata": {},
   "outputs": [],
   "source": []
  },
  {
   "cell_type": "code",
   "execution_count": null,
   "id": "73361ef9-c90a-4e26-b8f1-35924a91cd38",
   "metadata": {},
   "outputs": [],
   "source": []
  },
  {
   "cell_type": "code",
   "execution_count": null,
   "id": "9bb35865-71fe-4804-980e-1d2be613dcb7",
   "metadata": {},
   "outputs": [],
   "source": []
  },
  {
   "cell_type": "markdown",
   "id": "ff08743b-c30c-4b0f-a764-34df1e27a7c9",
   "metadata": {},
   "source": [
    "p.s.下面那段代码是gpt给我写的。我真的不知道是什么意思.jpg。暂时留着反正会报错。"
   ]
  },
  {
   "cell_type": "code",
   "execution_count": null,
   "id": "2455908b-0817-4724-8ec4-8b4d679ec12a",
   "metadata": {},
   "outputs": [],
   "source": [
    "import asyncio\n",
    "from bqskit.compiler import BasePass, PassManager\n",
    "from bqskit.ir.circuit import Circuit\n",
    "from bqskit.ir.gates import U3Gate, CXGate\n",
    "from bqskit.passes.mapping import GeneralizedSabreLayoutPass, GeneralizedSabreRoutingPass\n",
    "from bqskit.qis.graph import CouplingGraph\n",
    "\n",
    "class MyCustomPass(BasePass):\n",
    "    async def run(self, circuit: Circuit, data) -> None:\n",
    "        # 这里可以添加自定义的处理逻辑，例如打印电路信息\n",
    "        print(f\"电路包含 {len(circuit.operations)} 个操作。\")\n",
    "\n",
    "async def main():\n",
    "    # 定义量子比特数量\n",
    "    num_qudits = 5\n",
    "\n",
    "    # 创建一个包含num_qudits个量子比特的电路\n",
    "    circuit = Circuit(num_qudits)\n",
    "\n",
    "    # 添加大约100个随机的量子门来测试算法性能\n",
    "    for _ in range(50):\n",
    "        # 添加单量子比特门U3Gate到随机的量子比特上\n",
    "        qudit = _ % num_qudits  # 简单地循环使用量子比特索引\n",
    "        circuit.append_gate(U3Gate(), [qudit])\n",
    "\n",
    "        # 添加双量子比特门CXGate到随机的量子比特对上\n",
    "        control = _ % num_qudits\n",
    "        target = (_ + 1) % num_qudits\n",
    "        circuit.append_gate(CXGate(), [control, target])\n",
    "\n",
    "    # 定义目标量子硬件的耦合图，这里使用全连接图作为示例\n",
    "    coupling_graph = CouplingGraph.full(num_qudits)\n",
    "\n",
    "    # 创建PassManager并添加Pass\n",
    "    pass_manager = PassManager([\n",
    "        MyCustomPass(),\n",
    "        GeneralizedSabreLayoutPass(coupling_graph),\n",
    "        GeneralizedSabreRoutingPass(coupling_graph),\n",
    "    ])\n",
    "\n",
    "    # 运行PassManager\n",
    "    await pass_manager.run(circuit)\n",
    "\n",
    "# 运行异步主函数\n",
    "asyncio.run(main())\n"
   ]
  }
 ],
 "metadata": {
  "kernelspec": {
   "display_name": "bqskit",
   "language": "python",
   "name": "python3"
  },
  "language_info": {
   "codemirror_mode": {
    "name": "ipython",
    "version": 3
   },
   "file_extension": ".py",
   "mimetype": "text/x-python",
   "name": "python",
   "nbconvert_exporter": "python",
   "pygments_lexer": "ipython3",
   "version": "3.10.14"
  }
 },
 "nbformat": 4,
 "nbformat_minor": 5
}
