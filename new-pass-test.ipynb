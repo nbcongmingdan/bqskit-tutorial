{
 "cells": [
  {
   "cell_type": "markdown",
   "metadata": {},
   "source": [
    "好的。在经历了不计其数的意外和拖延之后，我们终于要继续某个在2024年7月就应该完成的任务了。\n",
    "\n",
    "我觉得我们先导入一个可用的example电路试试看？\n"
   ]
  },
  {
   "cell_type": "code",
   "execution_count": 1,
   "metadata": {},
   "outputs": [
    {
     "name": "stdout",
     "output_type": "stream",
     "text": [
      "/home/xuwentao/anaconda3/envs/bqskit/bin/python\n"
     ]
    }
   ],
   "source": [
    "import sys\n",
    "print(sys.executable)\n"
   ]
  },
  {
   "cell_type": "code",
   "execution_count": 2,
   "metadata": {},
   "outputs": [],
   "source": [
    "from bqskit import Circuit\n",
    "circuit = Circuit.from_file('qasm/heisenberg16.qasm')"
   ]
  },
  {
   "cell_type": "code",
   "execution_count": 3,
   "metadata": {},
   "outputs": [
    {
     "name": "stderr",
     "output_type": "stream",
     "text": [
      "Traceback (most recent call last):\n",
      "  File \"<string>\", line 1, in <module>\n",
      "  File \"/home/xuwentao/anaconda3/envs/bqskit/lib/python3.10/site-packages/bqskit/runtime/attached.py\", line 92, in start_attached_server\n",
      "    server = AttachedServer(num_workers, **kwargs)\n",
      "  File \"/home/xuwentao/anaconda3/envs/bqskit/lib/python3.10/site-packages/bqskit/runtime/attached.py\", line 66, in __init__\n",
      "    client_conn = self.listen_once('localhost', port)\n",
      "  File \"/home/xuwentao/anaconda3/envs/bqskit/lib/python3.10/site-packages/bqskit/runtime/base.py\", line 338, in listen_once\n",
      "    listener = Listener((ip, port), family)\n",
      "  File \"/home/xuwentao/anaconda3/envs/bqskit/lib/python3.10/multiprocessing/connection.py\", line 448, in __init__\n",
      "    self._listener = SocketListener(address, family, backlog)\n",
      "  File \"/home/xuwentao/anaconda3/envs/bqskit/lib/python3.10/multiprocessing/connection.py\", line 591, in __init__\n",
      "    self._socket.bind(address)\n",
      "OSError: [Errno 98] Address already in use\n"
     ]
    },
    {
     "ename": "RuntimeError",
     "evalue": "Client connection refused",
     "output_type": "error",
     "traceback": [
      "\u001b[0;31m---------------------------------------------------------------------------\u001b[0m",
      "\u001b[0;31mRuntimeError\u001b[0m                              Traceback (most recent call last)",
      "Cell \u001b[0;32mIn[3], line 3\u001b[0m\n\u001b[1;32m      1\u001b[0m \u001b[38;5;28;01mfrom\u001b[39;00m \u001b[38;5;21;01mbqskit\u001b[39;00m \u001b[38;5;28;01mimport\u001b[39;00m \u001b[38;5;28mcompile\u001b[39m\n\u001b[0;32m----> 3\u001b[0m out_circuit \u001b[38;5;241m=\u001b[39m \u001b[38;5;28;43mcompile\u001b[39;49m\u001b[43m(\u001b[49m\u001b[43mcircuit\u001b[49m\u001b[43m)\u001b[49m\n\u001b[1;32m      6\u001b[0m \u001b[38;5;66;03m# Print new statistics\u001b[39;00m\n\u001b[1;32m      7\u001b[0m \u001b[38;5;28mprint\u001b[39m(\u001b[38;5;124m\"\u001b[39m\u001b[38;5;124mCompiled Circuit Statistics\u001b[39m\u001b[38;5;124m\"\u001b[39m)\n",
      "File \u001b[0;32m~/anaconda3/envs/bqskit/lib/python3.10/site-packages/bqskit/compiler/compile.py:532\u001b[0m, in \u001b[0;36mcompile\u001b[0;34m(input, model, optimization_level, max_synthesis_size, synthesis_epsilon, error_threshold, error_sim_size, compiler, seed, with_mapping, **compiler_kwargs)\u001b[0m\n\u001b[1;32m    529\u001b[0m managed_compiler \u001b[38;5;241m=\u001b[39m compiler \u001b[38;5;129;01mis\u001b[39;00m \u001b[38;5;28;01mNone\u001b[39;00m\n\u001b[1;32m    531\u001b[0m \u001b[38;5;28;01mif\u001b[39;00m managed_compiler:\n\u001b[0;32m--> 532\u001b[0m     compiler \u001b[38;5;241m=\u001b[39m \u001b[43mCompiler\u001b[49m\u001b[43m(\u001b[49m\u001b[38;5;241;43m*\u001b[39;49m\u001b[38;5;241;43m*\u001b[39;49m\u001b[43mcompiler_kwargs\u001b[49m\u001b[43m)\u001b[49m\n\u001b[1;32m    534\u001b[0m \u001b[38;5;28;01massert\u001b[39;00m compiler \u001b[38;5;129;01mis\u001b[39;00m \u001b[38;5;129;01mnot\u001b[39;00m \u001b[38;5;28;01mNone\u001b[39;00m\n\u001b[1;32m    536\u001b[0m \u001b[38;5;28;01mif\u001b[39;00m (\n\u001b[1;32m    537\u001b[0m     is_iterable(\u001b[38;5;28minput\u001b[39m)\n\u001b[1;32m    538\u001b[0m     \u001b[38;5;129;01mand\u001b[39;00m \u001b[38;5;129;01mnot\u001b[39;00m \u001b[38;5;28misinstance\u001b[39m(\u001b[38;5;28minput\u001b[39m, Circuit)\n\u001b[0;32m   (...)\u001b[0m\n\u001b[1;32m    541\u001b[0m     \u001b[38;5;129;01mand\u001b[39;00m \u001b[38;5;129;01mnot\u001b[39;00m StateSystem\u001b[38;5;241m.\u001b[39mis_state_system(\u001b[38;5;28minput\u001b[39m)\n\u001b[1;32m    542\u001b[0m ):\n",
      "File \u001b[0;32m~/anaconda3/envs/bqskit/lib/python3.10/site-packages/bqskit/compiler/compiler.py:112\u001b[0m, in \u001b[0;36mCompiler.__init__\u001b[0;34m(self, ip, port, num_workers, runtime_log_level, worker_port)\u001b[0m\n\u001b[1;32m    109\u001b[0m     ip \u001b[38;5;241m=\u001b[39m \u001b[38;5;124m'\u001b[39m\u001b[38;5;124mlocalhost\u001b[39m\u001b[38;5;124m'\u001b[39m\n\u001b[1;32m    110\u001b[0m     \u001b[38;5;28mself\u001b[39m\u001b[38;5;241m.\u001b[39m_start_server(num_workers, runtime_log_level, worker_port)\n\u001b[0;32m--> 112\u001b[0m \u001b[38;5;28;43mself\u001b[39;49m\u001b[38;5;241;43m.\u001b[39;49m\u001b[43m_connect_to_server\u001b[49m\u001b[43m(\u001b[49m\u001b[43mip\u001b[49m\u001b[43m,\u001b[49m\u001b[43m \u001b[49m\u001b[43mport\u001b[49m\u001b[43m)\u001b[49m\n",
      "File \u001b[0;32m~/anaconda3/envs/bqskit/lib/python3.10/site-packages/bqskit/compiler/compiler.py:155\u001b[0m, in \u001b[0;36mCompiler._connect_to_server\u001b[0;34m(self, ip, port)\u001b[0m\n\u001b[1;32m    153\u001b[0m         _logger\u001b[38;5;241m.\u001b[39mdebug(\u001b[38;5;124m'\u001b[39m\u001b[38;5;124mSuccessfully connected to runtime server.\u001b[39m\u001b[38;5;124m'\u001b[39m)\n\u001b[1;32m    154\u001b[0m         \u001b[38;5;28;01mreturn\u001b[39;00m\n\u001b[0;32m--> 155\u001b[0m \u001b[38;5;28;01mraise\u001b[39;00m \u001b[38;5;167;01mRuntimeError\u001b[39;00m(\u001b[38;5;124m'\u001b[39m\u001b[38;5;124mClient connection refused\u001b[39m\u001b[38;5;124m'\u001b[39m)\n",
      "\u001b[0;31mRuntimeError\u001b[0m: Client connection refused"
     ]
    }
   ],
   "source": [
    "from bqskit import compile\n",
    "\n",
    "out_circuit = compile(circuit)\n",
    "\n",
    "\n",
    "# Print new statistics\n",
    "print(\"Compiled Circuit Statistics\")\n",
    "print(\"Gate Counts:\", out_circuit.gate_counts)\n",
    "print(\"Logical Connectivity:\", out_circuit.coupling_graph)"
   ]
  },
  {
   "cell_type": "code",
   "execution_count": 4,
   "metadata": {},
   "outputs": [],
   "source": [
    "from bqskit.ir import Circuit\n",
    "from bqskit.compiler import BasePass, Compiler, PassData, Workflow, MachineModel\n",
    "#from bqskit.qpu import MachineModel, HEISENBERG16_MODEL   ！！！不要盲目相信GPT!!!\n",
    "#from bqskit.passes import LEAPSynthesisPass, SetModelPass, HeuristicMapperPass\n",
    "from bqskit.ir.gates import U3Gate, CXGate\n"
   ]
  },
  {
   "cell_type": "markdown",
   "metadata": {},
   "source": [
    "gpt-随机电路生成"
   ]
  },
  {
   "cell_type": "code",
   "execution_count": 5,
   "metadata": {},
   "outputs": [],
   "source": [
    "import random\n",
    "from bqskit.ir import Circuit\n",
    "from bqskit.ir.gates import U3Gate, CXGate\n",
    "\n",
    "# 创建一个包含 5 个比特的电路\n",
    "num_qubits = 5\n",
    "circuit = Circuit(num_qubits)\n",
    "\n",
    "# 随机添加门到电路中\n",
    "for _ in range(10):  # 添加 10 个门\n",
    "    if random.choice([True, False]):\n",
    "        # 添加单比特门（U3Gate）\n",
    "        qubit = random.randint(0, num_qubits - 1)\n",
    "        params = [random.uniform(0, 2 * 3.1415) for _ in range(3)]\n",
    "        circuit.append_gate(U3Gate(), [qubit], params)\n",
    "    else:\n",
    "        # 添加双比特门（CXGate）\n",
    "        control = random.randint(0, num_qubits - 1)\n",
    "        target = random.randint(0, num_qubits - 1)\n",
    "        while target == control:\n",
    "            target = random.randint(0, num_qubits - 1)\n",
    "        circuit.append_gate(CXGate(), [control, target])\n"
   ]
  },
  {
   "cell_type": "code",
   "execution_count": null,
   "metadata": {},
   "outputs": [],
   "source": []
  },
  {
   "cell_type": "code",
   "execution_count": null,
   "metadata": {},
   "outputs": [],
   "source": []
  },
  {
   "cell_type": "code",
   "execution_count": 6,
   "metadata": {},
   "outputs": [],
   "source": [
    "from bqskit import Circuit\n",
    "from bqskit import compile \n",
    "from bqskit.passes import *\n",
    "from bqskit.compiler.basepass import BasePass\n",
    "from bqskit.compiler import BasePass\n",
    "from bqskit.compiler.passdata import PassData\n",
    "from bqskit.ir.gates import CircuitGate, CNOTGate"
   ]
  },
  {
   "cell_type": "code",
   "execution_count": 16,
   "metadata": {},
   "outputs": [
    {
     "data": {
      "text/plain": [
       "'\\nclass MyFirstPass(BasePass):\\n    def __init__(self):\\n        super().__init__()\\n\\n    def run(self, circuit: Circuit, data: PassData) -> None:\\n        count = circuit.count(CNOTGate)\\n        print(f\"Number of CXGates: {count}\")\\n\\n'"
      ]
     },
     "execution_count": 16,
     "metadata": {},
     "output_type": "execute_result"
    }
   ],
   "source": [
    "'''\n",
    "class MyFirstPass(BasePass):\n",
    "    def __init__(self):\n",
    "        super().__init__()\n",
    "\n",
    "    def run(self, circuit: Circuit, data: PassData) -> None:\n",
    "        count = circuit.count(CNOTGate)\n",
    "        print(f\"Number of CXGates: {count}\")\n",
    "\n",
    "'''     "
   ]
  },
  {
   "cell_type": "code",
   "execution_count": 7,
   "metadata": {},
   "outputs": [
    {
     "name": "stdout",
     "output_type": "stream",
     "text": [
      "{U3Gate: 8, CNOTGate: 2}\n"
     ]
    }
   ],
   "source": [
    "from bqskit import Circuit\n",
    "from bqskit.compiler import Compiler\n",
    "from bqskit.compiler import Workflow\n",
    "from bqskit.passes import PassGroup\n",
    "\n",
    "# dummy_passgroup = PassGroup([MyFirstPass()])\n",
    "\n",
    "print(circuit.gate_counts)"
   ]
  },
  {
   "cell_type": "code",
   "execution_count": 8,
   "metadata": {},
   "outputs": [
    {
     "name": "stdout",
     "output_type": "stream",
     "text": [
      "/home/xuwentao/anaconda3/envs/bqskit/bin/python\n"
     ]
    }
   ],
   "source": [
    "dummy_compiler = Compiler()\n",
    "from pytest import MyFirstPass\n",
    "\n",
    "\n",
    "dummy_workflow = Workflow([\n",
    "    MyFirstPass()\n",
    "])"
   ]
  },
  {
   "cell_type": "code",
   "execution_count": 9,
   "metadata": {},
   "outputs": [],
   "source": [
    "async def main():\n",
    "\n",
    "    with Compiler() as compiler:\n",
    "        Opt_circuit=compiler.compile(circuit, workflow=dummy_workflow)\n",
    "\n",
    "    print(circuit.gate_counts)\n",
    "\n",
    "\n"
   ]
  },
  {
   "cell_type": "markdown",
   "metadata": {},
   "source": [
    "无论怎么讲，进展还是可喜可贺的。"
   ]
  }
 ],
 "metadata": {
  "kernelspec": {
   "display_name": "bqskit",
   "language": "python",
   "name": "python3"
  },
  "language_info": {
   "codemirror_mode": {
    "name": "ipython",
    "version": 3
   },
   "file_extension": ".py",
   "mimetype": "text/x-python",
   "name": "python",
   "nbconvert_exporter": "python",
   "pygments_lexer": "ipython3",
   "version": "3.10.14"
  }
 },
 "nbformat": 4,
 "nbformat_minor": 4
}
