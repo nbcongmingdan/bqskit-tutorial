{
 "cells": [
  {
   "cell_type": "markdown",
   "metadata": {},
   "source": [
    "好的。在经历了不计其数的意外和拖延之后，我们终于要继续某个在2024年7月就应该完成的任务了。\n",
    "\n",
    "我觉得我们先导入一个可用的example电路试试看？\n"
   ]
  },
  {
   "cell_type": "code",
   "execution_count": 1,
   "metadata": {},
   "outputs": [
    {
     "name": "stdout",
     "output_type": "stream",
     "text": [
      "/home/xuwentao/anaconda3/envs/bqskit/bin/python\n"
     ]
    }
   ],
   "source": [
    "import sys\n",
    "print(sys.executable)\n"
   ]
  },
  {
   "cell_type": "code",
   "execution_count": 2,
   "metadata": {},
   "outputs": [],
   "source": [
    "from bqskit import Circuit\n",
    "circuit = Circuit.from_file('qasm/heisenberg16.qasm')"
   ]
  },
  {
   "cell_type": "code",
   "execution_count": 3,
   "metadata": {},
   "outputs": [
    {
     "name": "stdout",
     "output_type": "stream",
     "text": [
      "Compiled Circuit Statistics\n",
      "Gate Counts: {U3Gate: 521, CNOTGate: 340}\n",
      "Logical Connectivity: CouplingGraph({(0, 1), (9, 10), (13, 14), (1, 2), (10, 11), (3, 4), (12, 13), (2, 3), (6, 7), (4, 5), (8, 9), (11, 12), (5, 6), (14, 15), (7, 8)})\n"
     ]
    }
   ],
   "source": [
    "from bqskit import compile\n",
    "\n",
    "out_circuit = compile(circuit)\n",
    "\n",
    "\n",
    "# Print new statistics\n",
    "print(\"Compiled Circuit Statistics\")\n",
    "print(\"Gate Counts:\", out_circuit.gate_counts)\n",
    "print(\"Logical Connectivity:\", out_circuit.coupling_graph)"
   ]
  },
  {
   "cell_type": "code",
   "execution_count": 4,
   "metadata": {},
   "outputs": [],
   "source": [
    "from bqskit.ir import Circuit\n",
    "from bqskit.compiler import BasePass, Compiler, PassData, Workflow, MachineModel\n",
    "#from bqskit.qpu import MachineModel, HEISENBERG16_MODEL   ！！！不要盲目相信GPT!!!\n",
    "#from bqskit.passes import LEAPSynthesisPass, SetModelPass, HeuristicMapperPass\n",
    "from bqskit.ir.gates import U3Gate, CXGate\n"
   ]
  },
  {
   "cell_type": "markdown",
   "metadata": {},
   "source": [
    "gpt-随机电路生成"
   ]
  },
  {
   "cell_type": "code",
   "execution_count": 5,
   "metadata": {},
   "outputs": [],
   "source": [
    "import random\n",
    "from bqskit.ir import Circuit\n",
    "from bqskit.ir.gates import U3Gate, CXGate\n",
    "\n",
    "# 创建一个包含 5 个比特的电路\n",
    "num_qubits = 5\n",
    "circuit = Circuit(num_qubits)\n",
    "\n",
    "# 随机添加门到电路中\n",
    "for _ in range(10):  # 添加 10 个门\n",
    "    if random.choice([True, False]):\n",
    "        # 添加单比特门（U3Gate）\n",
    "        qubit = random.randint(0, num_qubits - 1)\n",
    "        params = [random.uniform(0, 2 * 3.1415) for _ in range(3)]\n",
    "        circuit.append_gate(U3Gate(), [qubit], params)\n",
    "    else:\n",
    "        # 添加双比特门（CXGate）\n",
    "        control = random.randint(0, num_qubits - 1)\n",
    "        target = random.randint(0, num_qubits - 1)\n",
    "        while target == control:\n",
    "            target = random.randint(0, num_qubits - 1)\n",
    "        circuit.append_gate(CXGate(), [control, target])\n"
   ]
  },
  {
   "cell_type": "code",
   "execution_count": 2,
   "metadata": {},
   "outputs": [
    {
     "ename": "NameError",
     "evalue": "name 'StateVector' is not defined",
     "output_type": "error",
     "traceback": [
      "\u001b[0;31m---------------------------------------------------------------------------\u001b[0m",
      "\u001b[0;31mNameError\u001b[0m                                 Traceback (most recent call last)",
      "Cell \u001b[0;32mIn[2], line 14\u001b[0m\n\u001b[1;32m     11\u001b[0m radixes \u001b[38;5;241m=\u001b[39m [\u001b[38;5;241m2\u001b[39m] \u001b[38;5;241m*\u001b[39m num_qudits  \u001b[38;5;66;03m# [2, 2, 2, ..., 2] 共 10 个 2\u001b[39;00m\n\u001b[1;32m     13\u001b[0m \u001b[38;5;66;03m# 生成一个随机的 10-qubit 状态\u001b[39;00m\n\u001b[0;32m---> 14\u001b[0m random_state \u001b[38;5;241m=\u001b[39m \u001b[43mStateVector\u001b[49m\u001b[38;5;241m.\u001b[39mrandom(num_qudits, radixes\u001b[38;5;241m=\u001b[39mradixes)\n\u001b[1;32m     16\u001b[0m \u001b[38;5;66;03m# 输出生成的随机状态\u001b[39;00m\n\u001b[1;32m     17\u001b[0m \u001b[38;5;28mprint\u001b[39m(random_state)\n",
      "\u001b[0;31mNameError\u001b[0m: name 'StateVector' is not defined"
     ]
    }
   ],
   "source": [
    "# 首先，确保你已经安装了 bqskit 库\n",
    "# 你可以使用以下命令进行安装：\n",
    "# pip install bqskit\n",
    "\n",
    "import bqskit \n",
    "\n",
    "# 定义量子比特的数量\n",
    "num_qudits = 10\n",
    "\n",
    "# 定义每个 qudit 的基数（对于 qubits，基数为 2）\n",
    "radixes = [2] * num_qudits  # [2, 2, 2, ..., 2] 共 10 个 2\n",
    "\n",
    "# 生成一个随机的 10-qubit 状态\n",
    "random_state = StateVector.random(num_qudits, radixes=radixes)\n",
    "\n",
    "# 输出生成的随机状态\n",
    "print(random_state)\n"
   ]
  },
  {
   "cell_type": "code",
   "execution_count": 3,
   "metadata": {},
   "outputs": [
    {
     "ename": "NameError",
     "evalue": "name 'version' is not defined",
     "output_type": "error",
     "traceback": [
      "\u001b[0;31m---------------------------------------------------------------------------\u001b[0m",
      "\u001b[0;31mNameError\u001b[0m                                 Traceback (most recent call last)",
      "Cell \u001b[0;32mIn[3], line 1\u001b[0m\n\u001b[0;32m----> 1\u001b[0m bqskit \u001b[38;5;241m-\u001b[39m\u001b[38;5;241m-\u001b[39m\u001b[43mversion\u001b[49m\n",
      "\u001b[0;31mNameError\u001b[0m: name 'version' is not defined"
     ]
    }
   ],
   "source": []
  },
  {
   "cell_type": "code",
   "execution_count": 6,
   "metadata": {},
   "outputs": [],
   "source": [
    "from bqskit import Circuit\n",
    "from bqskit import compile \n",
    "from bqskit.passes import *\n",
    "from bqskit.compiler.basepass import BasePass\n",
    "from bqskit.compiler import BasePass\n",
    "from bqskit.compiler.passdata import PassData\n",
    "from bqskit.ir.gates import CircuitGate, CNOTGate"
   ]
  },
  {
   "cell_type": "code",
   "execution_count": 7,
   "metadata": {},
   "outputs": [],
   "source": [
    "\n",
    "class MyFirstPass(BasePass):\n",
    "    def __init__(self):\n",
    "        super().__init__()\n",
    "\n",
    "    def run(self, circuit: Circuit, data: PassData) -> None:\n",
    "        count = circuit.count(CNOTGate)\n",
    "        print(f\"Number of CXGates: {count}\")\n",
    "\n",
    "     "
   ]
  },
  {
   "cell_type": "code",
   "execution_count": 8,
   "metadata": {},
   "outputs": [
    {
     "name": "stdout",
     "output_type": "stream",
     "text": [
      "{U3Gate: 7, CNOTGate: 3}\n"
     ]
    }
   ],
   "source": [
    "from bqskit import Circuit\n",
    "from bqskit.compiler import Compiler\n",
    "from bqskit.compiler import Workflow\n",
    "from bqskit.passes import PassGroup\n",
    "\n",
    "# dummy_passgroup = PassGroup([MyFirstPass()])\n",
    "\n",
    "print(circuit.gate_counts)"
   ]
  },
  {
   "cell_type": "code",
   "execution_count": 9,
   "metadata": {},
   "outputs": [
    {
     "name": "stdout",
     "output_type": "stream",
     "text": [
      "/home/xuwentao/anaconda3/envs/bqskit/bin/python\n"
     ]
    }
   ],
   "source": [
    "dummy_compiler = Compiler()\n",
    "from pytest import MyFirstPass\n",
    "\n",
    "\n",
    "dummy_workflow = Workflow([\n",
    "    MyFirstPass()\n",
    "])"
   ]
  },
  {
   "cell_type": "code",
   "execution_count": 10,
   "metadata": {},
   "outputs": [],
   "source": [
    "async def main():\n",
    "\n",
    "    with Compiler() as compiler:\n",
    "        Opt_circuit=compiler.compile(circuit, workflow=dummy_workflow)\n",
    "\n",
    "    print(circuit.gate_counts)\n",
    "\n",
    "\n"
   ]
  },
  {
   "cell_type": "markdown",
   "metadata": {},
   "source": [
    "无论怎么讲，进展还是可喜可贺的。"
   ]
  }
 ],
 "metadata": {
  "kernelspec": {
   "display_name": "bqskit",
   "language": "python",
   "name": "python3"
  },
  "language_info": {
   "codemirror_mode": {
    "name": "ipython",
    "version": 3
   },
   "file_extension": ".py",
   "mimetype": "text/x-python",
   "name": "python",
   "nbconvert_exporter": "python",
   "pygments_lexer": "ipython3",
   "version": "3.10.14"
  }
 },
 "nbformat": 4,
 "nbformat_minor": 4
}
