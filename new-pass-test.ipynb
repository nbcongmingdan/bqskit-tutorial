{
 "cells": [
  {
   "cell_type": "markdown",
   "metadata": {},
   "source": [
    "好的。在经历了不计其数的意外和拖延之后，我们终于要继续某个在2024年7月就应该完成的任务了。\n",
    "\n",
    "我觉得我们先导入一个可用的example电路试试看？\n"
   ]
  },
  {
   "cell_type": "code",
   "execution_count": 1,
   "metadata": {},
   "outputs": [
    {
     "name": "stdout",
     "output_type": "stream",
     "text": [
      "/home/xuwentao/anaconda3/envs/bqskit/bin/python\n"
     ]
    }
   ],
   "source": [
    "import sys\n",
    "print(sys.executable)\n"
   ]
  },
  {
   "cell_type": "code",
   "execution_count": 2,
   "metadata": {},
   "outputs": [],
   "source": [
    "from bqskit import Circuit\n",
    "circuit = Circuit.from_file('qasm/heisenberg16.qasm')"
   ]
  },
  {
   "cell_type": "code",
   "execution_count": 3,
   "metadata": {},
   "outputs": [
    {
     "name": "stdout",
     "output_type": "stream",
     "text": [
      "Compiled Circuit Statistics\n",
      "Gate Counts: {CNOTGate: 338, U3Gate: 525}\n",
      "Logical Connectivity: CouplingGraph({(0, 1), (9, 10), (13, 14), (1, 2), (10, 11), (3, 4), (12, 13), (2, 3), (6, 7), (4, 5), (8, 9), (11, 12), (5, 6), (14, 15), (7, 8)})\n"
     ]
    }
   ],
   "source": [
    "from bqskit import compile\n",
    "\n",
    "out_circuit = compile(circuit)\n",
    "\n",
    "\n",
    "# Print new statistics\n",
    "print(\"Compiled Circuit Statistics\")\n",
    "print(\"Gate Counts:\", out_circuit.gate_counts)\n",
    "print(\"Logical Connectivity:\", out_circuit.coupling_graph)"
   ]
  },
  {
   "cell_type": "code",
   "execution_count": 4,
   "metadata": {},
   "outputs": [],
   "source": [
    "from bqskit.ir import Circuit\n",
    "from bqskit.compiler import BasePass, Compiler, PassData, Workflow, MachineModel\n",
    "#from bqskit.qpu import MachineModel, HEISENBERG16_MODEL   ！！！不要盲目相信GPT!!!\n",
    "#from bqskit.passes import LEAPSynthesisPass, SetModelPass, HeuristicMapperPass\n",
    "from bqskit.ir.gates import U3Gate, CXGate\n"
   ]
  },
  {
   "cell_type": "markdown",
   "metadata": {},
   "source": [
    "gpt-随机电路生成"
   ]
  },
  {
   "cell_type": "code",
   "execution_count": 5,
   "metadata": {},
   "outputs": [],
   "source": [
    "import random\n",
    "from bqskit.ir import Circuit\n",
    "from bqskit.ir.gates import U3Gate, CXGate\n",
    "\n",
    "# 创建一个包含 5 个比特的电路\n",
    "num_qubits = 5\n",
    "circuit = Circuit(num_qubits)\n",
    "\n",
    "# 随机添加门到电路中\n",
    "for _ in range(10):  # 添加 10 个门\n",
    "    if random.choice([True, False]):\n",
    "        # 添加单比特门（U3Gate）\n",
    "        qubit = random.randint(0, num_qubits - 1)\n",
    "        params = [random.uniform(0, 2 * 3.1415) for _ in range(3)]\n",
    "        circuit.append_gate(U3Gate(), [qubit], params)\n",
    "    else:\n",
    "        # 添加双比特门（CXGate）\n",
    "        control = random.randint(0, num_qubits - 1)\n",
    "        target = random.randint(0, num_qubits - 1)\n",
    "        while target == control:\n",
    "            target = random.randint(0, num_qubits - 1)\n",
    "        circuit.append_gate(CXGate(), [control, target])\n"
   ]
  },
  {
   "cell_type": "code",
   "execution_count": null,
   "metadata": {},
   "outputs": [],
   "source": []
  },
  {
   "cell_type": "code",
   "execution_count": null,
   "metadata": {},
   "outputs": [],
   "source": []
  },
  {
   "cell_type": "code",
   "execution_count": 6,
   "metadata": {},
   "outputs": [],
   "source": [
    "from bqskit import Circuit\n",
    "from bqskit import compile \n",
    "from bqskit.passes import *\n",
    "from bqskit.compiler.basepass import BasePass\n",
    "from bqskit.compiler import BasePass\n",
    "from bqskit.compiler.passdata import PassData\n",
    "from bqskit.ir.gates import CircuitGate, CNOTGate"
   ]
  },
  {
   "cell_type": "code",
   "execution_count": 7,
   "metadata": {},
   "outputs": [],
   "source": [
    "\n",
    "class MyFirstPass(BasePass):\n",
    "    def __init__(self):\n",
    "        super().__init__()\n",
    "\n",
    "    def run(self, circuit: Circuit, data: PassData) -> None:\n",
    "        count = circuit.count(CNOTGate)\n",
    "        print(f\"Number of CXGates: {count}\")\n",
    "\n",
    "     "
   ]
  },
  {
   "cell_type": "code",
   "execution_count": 8,
   "metadata": {},
   "outputs": [
    {
     "name": "stdout",
     "output_type": "stream",
     "text": [
      "{CNOTGate: 6, U3Gate: 4}\n"
     ]
    }
   ],
   "source": [
    "from bqskit import Circuit\n",
    "from bqskit.compiler import Compiler\n",
    "from bqskit.compiler import Workflow\n",
    "from bqskit.passes import PassGroup\n",
    "\n",
    "# dummy_passgroup = PassGroup([MyFirstPass()])\n",
    "\n",
    "print(circuit.gate_counts)"
   ]
  },
  {
   "cell_type": "code",
   "execution_count": 9,
   "metadata": {},
   "outputs": [
    {
     "name": "stdout",
     "output_type": "stream",
     "text": [
      "/home/xuwentao/anaconda3/envs/bqskit/bin/python\n"
     ]
    }
   ],
   "source": [
    "dummy_compiler = Compiler()\n",
    "from pytest import MyFirstPass\n",
    "\n",
    "\n",
    "dummy_workflow = Workflow([\n",
    "    MyFirstPass()\n",
    "])"
   ]
  },
  {
   "cell_type": "code",
   "execution_count": 10,
   "metadata": {},
   "outputs": [],
   "source": [
    "async def main():\n",
    "\n",
    "    with Compiler() as compiler:\n",
    "        Opt_circuit=compiler.compile(circuit, workflow=dummy_workflow)\n",
    "\n",
    "    print(circuit.gate_counts)\n",
    "\n",
    "\n"
   ]
  },
  {
   "cell_type": "markdown",
   "metadata": {},
   "source": [
    "无论怎么讲，进展还是可喜可贺的。"
   ]
  }
 ],
 "metadata": {
  "kernelspec": {
   "display_name": "bqskit",
   "language": "python",
   "name": "python3"
  },
  "language_info": {
   "codemirror_mode": {
    "name": "ipython",
    "version": 3
   },
   "file_extension": ".py",
   "mimetype": "text/x-python",
   "name": "python",
   "nbconvert_exporter": "python",
   "pygments_lexer": "ipython3",
   "version": "3.10.14"
  }
 },
 "nbformat": 4,
 "nbformat_minor": 4
}
