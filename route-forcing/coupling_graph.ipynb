{
 "cells": [
  {
   "cell_type": "code",
   "execution_count": 2,
   "id": "31585933-55f9-4796-b39e-6a166819efeb",
   "metadata": {},
   "outputs": [
    {
     "data": {
      "text/plain": [
       "'tools.display_dataframe_to_user(name=\"Distance Matrix with Inter-unit Connections\", dataframe=distance_df_in_unit_only)'"
      ]
     },
     "execution_count": 2,
     "metadata": {},
     "output_type": "execute_result"
    }
   ],
   "source": [
    "# Re-import necessary libraries after code reset\n",
    "import networkx as nx\n",
    "import pandas as pd\n",
    "'import ace_tools as tools'\n",
    "\n",
    "# 创建一个只包含单元内连接的程序\n",
    "def create_coupling_graph_in_unit_only():\n",
    "    G = nx.Graph()\n",
    "\n",
    "    # 添加256个点\n",
    "    for unit in range(4):\n",
    "        for row in range(8):\n",
    "            for col in range(8):\n",
    "                node = f'{unit}{row}{col}'\n",
    "                G.add_node(node)\n",
    "\n",
    "    # 单元内连接 (in_unit)\n",
    "    for unit in range(4):\n",
    "        for row in range(8):\n",
    "            for col in range(8):\n",
    "                node = f'{unit}{row}{col}'\n",
    "\n",
    "                # 邻近点连接 (in-unit)\n",
    "                if col < 7:  # 向右连接\n",
    "                    right_node = f'{unit}{row}{col + 1}'\n",
    "                    G.add_edge(node, right_node, weight=1, connection_type='in_unit')\n",
    "\n",
    "                if row < 7:  # 向下连接\n",
    "                    down_node = f'{unit}{row + 1}{col}'\n",
    "                    G.add_edge(node, down_node, weight=1, connection_type='in_unit')\n",
    "\n",
    "    return G\n",
    "\n",
    "# 使用 Floyd-Warshall 算法计算点到点的最短距离矩阵\n",
    "def calculate_distance_matrix_floyd_warshall(graph):\n",
    "    # 使用 networkx 的 floyd_warshall 函数\n",
    "    length = dict(nx.floyd_warshall(graph, weight='weight'))\n",
    "    \n",
    "    # 转换为矩阵形式，便于输出或分析\n",
    "    nodes = sorted(graph.nodes())\n",
    "    num_nodes = len(nodes)\n",
    "    distance_matrix = []\n",
    "\n",
    "    for i in range(num_nodes):\n",
    "        row = []\n",
    "        for j in range(num_nodes):\n",
    "            row.append(length[nodes[i]][nodes[j]])\n",
    "        distance_matrix.append(row)\n",
    "    \n",
    "    return distance_matrix, nodes\n",
    "\n",
    "# 创建仅包含单元内连接的 coupling graph\n",
    "G_in_unit_only = create_coupling_graph_in_unit_only()\n",
    "\n",
    "# 手动添加单元间连接\n",
    "edges_to_add = [\n",
    "    ('007', '100', 5),\n",
    "    ('017', '110', 5),\n",
    "    ('027', '120', 5),\n",
    "    ('037', '130', 5),\n",
    "    ('047', '140', 5),\n",
    "    ('057', '150', 5),\n",
    "    ('067', '160', 5),\n",
    "    ('077', '170', 5),\n",
    "    ('070', '200', 5),\n",
    "    ('071', '201', 5),\n",
    "    ('072', '202', 5),\n",
    "    ('073', '203', 5),\n",
    "    ('074', '204', 5),\n",
    "    ('075', '205', 5),\n",
    "    ('076', '206', 5),\n",
    "    ('077', '207', 5),\n",
    "    ('170', '300', 5),\n",
    "    ('171', '301', 5),\n",
    "    ('172', '302', 5),\n",
    "    ('173', '303', 5),\n",
    "    ('174', '304', 5),\n",
    "    ('175', '305', 5),\n",
    "    ('176', '306', 5),\n",
    "    ('177', '307', 5),\n",
    "    ('207', '300', 5),\n",
    "    ('217', '310', 5),\n",
    "    ('227', '320', 5),\n",
    "    ('237', '330', 5),\n",
    "    ('247', '340', 5),\n",
    "    ('257', '350', 5),\n",
    "    ('267', '360', 5),\n",
    "    ('277', '370', 5),\n",
    "]\n",
    "\n",
    "# 添加单元间连接\n",
    "for edge in edges_to_add:\n",
    "    G_in_unit_only.add_edge(edge[0], edge[1], weight=edge[2], connection_type='inter_unit')\n",
    "\n",
    "# 使用 Floyd-Warshall 算法计算点到点的最短距离矩阵（包含单元间连接）\n",
    "distance_matrix_in_unit_only, nodes_in_unit_only = calculate_distance_matrix_floyd_warshall(G_in_unit_only)\n",
    "\n",
    "# 输出结果\n",
    "distance_df_in_unit_only = pd.DataFrame(distance_matrix_in_unit_only, index=nodes_in_unit_only, columns=nodes_in_unit_only)\n",
    "\n",
    "# 显示前10行前10列\n",
    "'tools.display_dataframe_to_user(name=\"Distance Matrix with Inter-unit Connections\", dataframe=distance_df_in_unit_only)'\n"
   ]
  },
  {
   "cell_type": "code",
   "execution_count": 3,
   "id": "2ab501f3-dba8-4fb3-908a-555ffd046346",
   "metadata": {},
   "outputs": [
    {
     "data": {
      "text/plain": [
       "'distance_matrix_with_inter_unit_connections.txt'"
      ]
     },
     "execution_count": 3,
     "metadata": {},
     "output_type": "execute_result"
    }
   ],
   "source": [
    "# 将距离矩阵保存为 .txt 文档\n",
    "output_file_path = \"distance_matrix_with_inter_unit_connections.txt\"\n",
    "distance_df_in_unit_only.to_csv(output_file_path, sep='\\t')\n",
    "\n",
    "output_file_path\n"
   ]
  },
  {
   "cell_type": "code",
   "execution_count": null,
   "id": "73d4a813-9980-49b3-913f-b42ed7cc699b",
   "metadata": {},
   "outputs": [],
   "source": []
  }
 ],
 "metadata": {
  "kernelspec": {
   "display_name": "Python 3 (ipykernel)",
   "language": "python",
   "name": "python3"
  },
  "language_info": {
   "codemirror_mode": {
    "name": "ipython",
    "version": 3
   },
   "file_extension": ".py",
   "mimetype": "text/x-python",
   "name": "python",
   "nbconvert_exporter": "python",
   "pygments_lexer": "ipython3",
   "version": "3.10.14"
  }
 },
 "nbformat": 4,
 "nbformat_minor": 5
}
