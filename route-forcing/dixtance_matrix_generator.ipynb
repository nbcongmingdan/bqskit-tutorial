{
 "cells": [
  {
   "cell_type": "code",
   "execution_count": 1,
   "id": "e826ede1-aff1-4ee9-bc5c-84635b7c69b2",
   "metadata": {},
   "outputs": [
    {
     "name": "stdout",
     "output_type": "stream",
     "text": [
      "[[ 0.  1.  2. ...  9. 10. 11.]\n",
      " [ 1.  0.  1. ...  8.  9. 10.]\n",
      " [ 2.  1.  0. ...  7.  8.  9.]\n",
      " ...\n",
      " [ 9.  8.  7. ...  0.  1.  2.]\n",
      " [10.  9.  8. ...  1.  0.  1.]\n",
      " [11. 10.  9. ...  2.  1.  0.]]\n"
     ]
    }
   ],
   "source": [
    "import numpy as np\n",
    "def calculate_distance(index1, index2):\n",
    "    # 确保输入是字符串\n",
    "    index1, index2 = str(index1), str(index2)\n",
    "\n",
    "    # 解析点的index，得到单元号、行号、列号\n",
    "    unit1, row1, col1 = int(index1[0]), int(index1[1]), int(index1[2])\n",
    "    unit2, row2, col2 = int(index2[0]), int(index2[1]), int(index2[2])\n",
    "\n",
    "    # 单元内的点之间的距离，行列的差加起来\n",
    "    if unit1 == unit2:\n",
    "        return abs(row1 - row2) + abs(col1 - col2)\n",
    "\n",
    "    # 单元之间的距离，判断是否是相邻单元\n",
    "    adjacent_units = {\n",
    "        0: [1, 2],\n",
    "        1: [0, 3],\n",
    "        2: [0, 3],\n",
    "        3: [1, 2]\n",
    "    }\n",
    "\n",
    "    # 边界判断逻辑\n",
    "    def is_edge_point(unit, row, col):\n",
    "        if unit == 0:\n",
    "            return (row == 7 and 0 <= col <= 7) or (col == 7 and 0 <= row <= 7)  # Unit 0 边界\n",
    "        elif unit == 1:\n",
    "            return (row == 0 and 0 <= col <= 7) or (col == 7 and 0 <= row <= 7)  # Unit 1 边界\n",
    "        elif unit == 2:\n",
    "            return (row == 7 and 0 <= col <= 7) or (col == 0 and 0 <= row <= 7)  # Unit 2 边界\n",
    "        elif unit == 3:\n",
    "            return (row == 0 and 0 <= col <= 7) or (col == 0 and 0 <= row <= 7)  # Unit 3 边界\n",
    "        return False\n",
    "\n",
    "    # 边界点直接连接的判断（只有对应的边界点能直接连接）\n",
    "    def can_connect_directly(unit1, row1, col1, unit2, row2, col2):\n",
    "        if (unit1 == 0 and unit2 == 1) or (unit1 == 1 and unit2 == 0):\n",
    "            return row1 == row2  # Unit 0 和 Unit 1 间的对应边界点直接连接\n",
    "        elif (unit1 == 0 and unit2 == 2) or (unit1 == 2 and unit2 == 0):\n",
    "            return col1 == col2  # Unit 0 和 Unit 2 间的对应边界点直接连接\n",
    "        elif (unit1 == 1 and unit2 == 3) or (unit1 == 3 and unit2 == 1):\n",
    "            return row1 == row2  # Unit 1 和 Unit 3 间的对应边界点直接连接\n",
    "        elif (unit1 == 2 and unit2 == 3) or (unit1 == 3 and unit2 == 2):\n",
    "            return col1 == col2  # Unit 2 和 Unit 3 间的对应边界点直接连接\n",
    "        return False\n",
    "\n",
    "    # 找到到边界点的最短距离\n",
    "    def distance_to_edge(unit, row, col):\n",
    "        if unit == 0:\n",
    "            return min(7 - row, 7 - col)  # 单元 0\n",
    "        elif unit == 1:\n",
    "            return min(row, 7 - col)  # 单元 1\n",
    "        elif unit == 2:\n",
    "            return min(7 - row, col)  # 单元 2\n",
    "        elif unit == 3:\n",
    "            return min(row, col)  # 单元 3\n",
    "        return np.inf\n",
    "\n",
    "    # 处理相邻单元\n",
    "    if unit2 in adjacent_units[unit1]:\n",
    "        is_edge_point1 = is_edge_point(unit1, row1, col1)\n",
    "        is_edge_point2 = is_edge_point(unit2, row2, col2)\n",
    "\n",
    "        if is_edge_point1 and is_edge_point2:\n",
    "            if can_connect_directly(unit1, row1, col1, unit2, row2, col2):\n",
    "                # 如果两个边界点直接连接，距离为5\n",
    "                return 5\n",
    "            else:\n",
    "                # 如果不能直接连接，计算通过边界点的路由距离\n",
    "                dist_to_edge1 = distance_to_edge(unit1, row1, col1)\n",
    "                dist_to_edge2 = distance_to_edge(unit2, row2, col2)\n",
    "                return dist_to_edge1 + 5 + dist_to_edge2\n",
    "\n",
    "    # 处理跨单元（不相邻单元）\n",
    "    else:\n",
    "        # 找到通过的中间单元\n",
    "        if (unit1 == 0 and unit2 == 3) or (unit1 == 3 and unit2 == 0):\n",
    "            mid_unit = 1  # 通过 unit1 进行路由\n",
    "        elif (unit1 == 1 and unit2 == 2) or (unit1 == 2 and unit2 == 1):\n",
    "            mid_unit = 0\n",
    "        else:\n",
    "            mid_unit = None\n",
    "        \n",
    "        if mid_unit is not None:\n",
    "            # 计算点1到其边界点的距离\n",
    "            dist_to_edge1 = distance_to_edge(unit1, row1, col1)\n",
    "            # 计算点2到其边界点的距离\n",
    "            dist_to_edge2 = distance_to_edge(unit2, row2, col2)\n",
    "            # 计算通过中间单元的边界距离，边界到边界为5两次（跨中间单元）\n",
    "            mid_distance = 10  # 中间单元跨越边界两次\n",
    "            # 总路由距离为：点1到边界 + 跨中间单元边界距离 + 点2到边界\n",
    "            return dist_to_edge1 + mid_distance + dist_to_edge2\n",
    "\n",
    "    return np.inf\n",
    "\n",
    "\n",
    "\n",
    "\n",
    "\n",
    "def create_distance_matrix():\n",
    "    # 初始化256*256的距离矩阵\n",
    "    _distance_matrix = np.full((256, 256), np.inf)\n",
    "\n",
    "    for i in range(256):\n",
    "        for j in range(256):\n",
    "            # 生成index的字符串格式，例如\"070\", \"101\"\n",
    "            index1 = f'{i // 64}{(i % 64) // 8}{i % 8}'\n",
    "            index2 = f'{j // 64}{(j % 64) // 8}{j % 8}'\n",
    "            \n",
    "            # 计算距离\n",
    "            _distance_matrix[i, j] = calculate_distance(index1, index2)\n",
    "    \n",
    "    return _distance_matrix\n",
    "\n",
    "# 生成距离矩阵\n",
    "distance_matrix = create_distance_matrix()\n",
    "\n",
    "# 输出部分矩阵结果来查看\n",
    "print(distance_matrix[:40, :40])  # 打印前10行和前10列的距离\n"
   ]
  },
  {
   "cell_type": "code",
   "execution_count": 2,
   "id": "15402c39-d6be-4034-89a8-ce23187a3321",
   "metadata": {},
   "outputs": [
    {
     "data": {
      "text/plain": [
       "'distance_matrix.txt'"
      ]
     },
     "execution_count": 2,
     "metadata": {},
     "output_type": "execute_result"
    }
   ],
   "source": [
    "# 修改程序，将结果输出为一个.txt文档\n",
    "\n",
    "def save_distance_matrix_to_txt():\n",
    "    # 生成距离矩阵\n",
    "    distance_matrix = create_distance_matrix()\n",
    "    \n",
    "    # 保存为txt文件\n",
    "    np.savetxt(\"distance_matrix.txt\", distance_matrix, fmt=\"%.2f\")\n",
    "    \n",
    "    return \"distance_matrix.txt\"\n",
    "\n",
    "# 保存为txt文件\n",
    "output_txt_file = save_distance_matrix_to_txt()\n",
    "output_txt_file\n"
   ]
  },
  {
   "cell_type": "code",
   "execution_count": 3,
   "id": "2508768a-4186-473f-b04b-a852ab014e55",
   "metadata": {},
   "outputs": [
    {
     "data": {
      "text/plain": [
       "24"
      ]
     },
     "execution_count": 3,
     "metadata": {},
     "output_type": "execute_result"
    }
   ],
   "source": [
    "calculate_distance(\"000\", \"377\")"
   ]
  },
  {
   "cell_type": "code",
   "execution_count": null,
   "id": "1a0bffa7-d2b6-473c-8842-0790c505498e",
   "metadata": {},
   "outputs": [],
   "source": []
  }
 ],
 "metadata": {
  "kernelspec": {
   "display_name": "Python 3 (ipykernel)",
   "language": "python",
   "name": "python3"
  },
  "language_info": {
   "codemirror_mode": {
    "name": "ipython",
    "version": 3
   },
   "file_extension": ".py",
   "mimetype": "text/x-python",
   "name": "python",
   "nbconvert_exporter": "python",
   "pygments_lexer": "ipython3",
   "version": "3.10.0"
  }
 },
 "nbformat": 4,
 "nbformat_minor": 5
}
